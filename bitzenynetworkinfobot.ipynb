{
  "nbformat": 4,
  "nbformat_minor": 0,
  "metadata": {
    "colab": {
      "name": "【公開用】bitzenynetworkinfobot.ipynb のコピー のコピー",
      "provenance": [],
      "collapsed_sections": [],
      "authorship_tag": "ABX9TyP1vlOARL/L9+nnjV3ypoIn",
      "include_colab_link": true
    },
    "kernelspec": {
      "display_name": "Python 3",
      "name": "python3"
    },
    "language_info": {
      "name": "python"
    }
  },
  "cells": [
    {
      "cell_type": "markdown",
      "metadata": {
        "id": "view-in-github",
        "colab_type": "text"
      },
      "source": [
        "<a href=\"https://colab.research.google.com/github/yasi2s/BitZenyNetworkInfoBot/blob/main/bitzenynetworkinfobot.ipynb\" target=\"_parent\"><img src=\"https://colab.research.google.com/assets/colab-badge.svg\" alt=\"Open In Colab\"/></a>"
      ]
    },
    {
      "cell_type": "code",
      "metadata": {
        "id": "1VB_HRwMUneR"
      },
      "source": [
        "import json"
      ],
      "execution_count": null,
      "outputs": []
    },
    {
      "cell_type": "code",
      "metadata": {
        "id": "80mDItw4UNHo"
      },
      "source": [
        "import urllib.request"
      ],
      "execution_count": null,
      "outputs": []
    },
    {
      "cell_type": "code",
      "metadata": {
        "id": "zCrmbp3pIOFc"
      },
      "source": [
        "import tweepy"
      ],
      "execution_count": null,
      "outputs": []
    },
    {
      "cell_type": "code",
      "metadata": {
        "id": "ClRbaaJHlkS8"
      },
      "source": [
        "import datetime"
      ],
      "execution_count": null,
      "outputs": []
    },
    {
      "cell_type": "code",
      "metadata": {
        "id": "qJqkahKiI7R1"
      },
      "source": [
        "consumer_key = ''\n",
        "consumer_secret = ''\n",
        "access_token = ''\n",
        "access_token_secret = ''"
      ],
      "execution_count": null,
      "outputs": []
    },
    {
      "cell_type": "code",
      "metadata": {
        "id": "NEewvwMnF_Z-"
      },
      "source": [
        "url = \"\""
      ],
      "execution_count": null,
      "outputs": []
    },
    {
      "cell_type": "markdown",
      "metadata": {
        "id": "LcyUv4lLHeHJ"
      },
      "source": [
        "エクスプローラのAPIのURLを入力し取得"
      ]
    },
    {
      "cell_type": "code",
      "metadata": {
        "id": "kLAfQQ-EnoHW"
      },
      "source": [
        "blockurl = \"\""
      ],
      "execution_count": null,
      "outputs": []
    },
    {
      "cell_type": "markdown",
      "metadata": {
        "id": "cMYSLBQdp6fY"
      },
      "source": [
        "最新のブロックの情報(ブロック高など)を取得できるAPIのURLを入力"
      ]
    },
    {
      "cell_type": "code",
      "metadata": {
        "id": "fZd5Qxf-RTvJ"
      },
      "source": [
        "BlockTime = 90"
      ],
      "execution_count": null,
      "outputs": []
    },
    {
      "cell_type": "markdown",
      "metadata": {
        "id": "ZxFCFbOQRWUo"
      },
      "source": [
        "ブロックの生成間隔を**秒**単位で入力"
      ]
    },
    {
      "cell_type": "code",
      "metadata": {
        "id": "cE2_X5a0RfPz"
      },
      "source": [
        "HangenkiHeight = 500000"
      ],
      "execution_count": null,
      "outputs": []
    },
    {
      "cell_type": "markdown",
      "metadata": {
        "id": "YEinxe5QRsad"
      },
      "source": [
        "半減期の間隔のブロック数を入力"
      ]
    },
    {
      "cell_type": "code",
      "metadata": {
        "id": "WLDuWkbTSJgJ"
      },
      "source": [
        "CryptoName = \"BitZeny\""
      ],
      "execution_count": null,
      "outputs": []
    },
    {
      "cell_type": "markdown",
      "metadata": {
        "id": "mRplke1cSYgB"
      },
      "source": [
        "Botに投稿させる暗号資産(仮想通貨)の名称を入力"
      ]
    },
    {
      "cell_type": "code",
      "metadata": {
        "id": "eGg4apAlSVQe"
      },
      "source": [
        "Network = \"Mainnet\""
      ],
      "execution_count": null,
      "outputs": []
    },
    {
      "cell_type": "markdown",
      "metadata": {
        "id": "5NlZHzVUSmOi"
      },
      "source": [
        "Botに投稿させる仮想通貨(暗号資産)のネットワークの種類(MainnetかTestnetか、など)を入力"
      ]
    },
    {
      "cell_type": "code",
      "metadata": {
        "id": "2Jb_7SVxRbM2"
      },
      "source": [
        "r = urllib.request.urlopen(url)"
      ],
      "execution_count": null,
      "outputs": []
    },
    {
      "cell_type": "code",
      "metadata": {
        "id": "Tl14nQ9nnzqz"
      },
      "source": [
        "blockdataget = urllib.request.urlopen(blockurl)"
      ],
      "execution_count": null,
      "outputs": []
    },
    {
      "cell_type": "code",
      "metadata": {
        "id": "S5wcxBvyvNIJ"
      },
      "source": [
        "blockresult = json.load(blockdataget)"
      ],
      "execution_count": null,
      "outputs": []
    },
    {
      "cell_type": "code",
      "metadata": {
        "id": "jmOyxdisUtnF"
      },
      "source": [
        "result = json.load(r)"
      ],
      "execution_count": null,
      "outputs": []
    },
    {
      "cell_type": "code",
      "metadata": {
        "id": "TkLCcIZLuE0T"
      },
      "source": [
        "hangenki = HangenkiHeight - blockresult % HangenkiHeight"
      ],
      "execution_count": null,
      "outputs": []
    },
    {
      "cell_type": "code",
      "metadata": {
        "id": "BJ8NFg36uY0S"
      },
      "source": [
        "HangenkiSec = hangenki * BlockTime"
      ],
      "execution_count": null,
      "outputs": []
    },
    {
      "cell_type": "code",
      "metadata": {
        "id": "czoAZGic_CEF"
      },
      "source": [
        "Henkan = datetime.timedelta(seconds=HangenkiSec)"
      ],
      "execution_count": null,
      "outputs": []
    },
    {
      "cell_type": "code",
      "metadata": {
        "id": "rn1ipVSHHnTK"
      },
      "source": [
        "auth = tweepy.OAuthHandler(consumer_key, consumer_secret)\n",
        "auth.set_access_token(access_token, access_token_secret)"
      ],
      "execution_count": null,
      "outputs": []
    },
    {
      "cell_type": "code",
      "metadata": {
        "id": "D1OC5geYJH1q"
      },
      "source": [
        "api = tweepy.API(auth)"
      ],
      "execution_count": null,
      "outputs": []
    },
    {
      "cell_type": "code",
      "metadata": {
        "id": "zRbRbEACP1oN"
      },
      "source": [
        "text = \"現在の\"+CryptoName+\" \"+Network+\"ノード数は\"+str(result)+\"です。\"+\"半減期まであと約\"+str(Henkan)+\"です。\""
      ],
      "execution_count": null,
      "outputs": []
    },
    {
      "cell_type": "markdown",
      "metadata": {
        "id": "_atFcVabBMsw"
      },
      "source": [
        "通常の文体"
      ]
    },
    {
      "cell_type": "code",
      "metadata": {
        "id": "L4I2SOTSyn6q"
      },
      "source": [
        "text2 = \"現在の\"+CryptoName+\" \"+Network+\"ノード数は\"+str(result)+\"です。\"+\"半減期まであと約\"+str(Henkan)"
      ],
      "execution_count": null,
      "outputs": []
    },
    {
      "cell_type": "markdown",
      "metadata": {
        "id": "w3jHdN8bBQ39"
      },
      "source": [
        "エラー時に投稿が試行される文体"
      ]
    },
    {
      "cell_type": "code",
      "metadata": {
        "id": "iR2mh5ghym6i"
      },
      "source": [
        "try:\n",
        "  api.update_status(text)\n",
        "  print(\"投稿完了しました。\")\n",
        "except tweepy.TweepError:\n",
        "  api.update_status(text2)\n",
        "  print(\"重複などの理由で投稿に失敗したので文体を変えて再投稿を試行しました。\")"
      ],
      "execution_count": null,
      "outputs": []
    }
  ]
}