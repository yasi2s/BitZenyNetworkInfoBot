{
  "nbformat": 4,
  "nbformat_minor": 0,
  "metadata": {
    "colab": {
      "name": "SSCreator.ipynb",
      "provenance": [],
      "authorship_tag": "ABX9TyMEUYXh3U6p4jwYeP3Wl08V"
    },
    "kernelspec": {
      "name": "python3",
      "display_name": "Python 3"
    },
    "language_info": {
      "name": "python"
    }
  },
  "cells": [
    {
      "cell_type": "code",
      "metadata": {
        "id": "GUXPEk7xXvb4"
      },
      "source": [
        "select=input(\"コンテンツの作成を開始もしくは継続しますか？開始・継続する場合は0、終了する場合は1を入力してください：\")"
      ],
      "execution_count": null,
      "outputs": []
    },
    {
      "cell_type": "code",
      "metadata": {
        "id": "femXFD3-YhVt"
      },
      "source": [
        "if select == \"0\":\n",
        "  contentname = input(\"キャラクター名を入力してください：\")\n",
        "  contentdata = input(\"内容を入力してください：\")\n",
        "  f = open(\"sscreator.txt\",mode=\"a\")\n",
        "  out = contentname + \"「\" + contentdata + \"」\\n\"\n",
        "  f.write(out)\n",
        "  f.close()\n",
        "else:\n",
        "  print(\"終了します。\")"
      ],
      "execution_count": null,
      "outputs": []
    }
  ]
}